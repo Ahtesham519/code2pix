{
 "cells": [
  {
   "cell_type": "code",
   "execution_count": 98,
   "metadata": {
    "ExecuteTime": {
     "end_time": "2018-04-18T20:37:43.261847Z",
     "start_time": "2018-04-18T20:37:39.755871Z"
    }
   },
   "outputs": [],
   "source": [
    "import numpy as np\n",
    "import matplotlib.pyplot as plt \n",
    "% matplotlib inline\n",
    "import os\n",
    "from os.path import join\n",
    "\n",
    "import keras\n",
    "from keras.models import Sequential\n",
    "from keras.layers import (LSTM, Dense, Conv2D, Input, Reshape, concatenate, MaxPooling2D,Dropout, Flatten, \n",
    "RepeatVector, UpSampling2D, Conv1D, Permute, BatchNormalization, Activation, \n",
    "                          UpSampling2D, MaxPooling1D, GlobalAveragePooling1D, Embedding)\n",
    "from keras import Model\n",
    "from keras.engine.topology import Layer, InputSpec\n",
    "from keras import backend as K\n",
    "from keras.optimizers import RMSprop\n",
    "from keras.callbacks import EarlyStopping\n",
    "from keras.utils import to_categorical\n",
    "from keras.losses import mean_squared_error\n",
    "from keras.preprocessing import sequence\n",
    "\n",
    "from Vocabulary import Vocabulary\n",
    "from keras.backend import clear_session\n",
    "\n",
    "clear_session()"
   ]
  },
  {
   "cell_type": "code",
   "execution_count": 102,
   "metadata": {
    "ExecuteTime": {
     "end_time": "2018-04-18T20:37:43.267061Z",
     "start_time": "2018-04-18T20:37:43.263712Z"
    }
   },
   "outputs": [],
   "source": [
    "datasets = ['android', 'ios', 'web']\n",
    "BACKEND = datasets[0]\n",
    "traindir = \"{}/training_features\".format(BACKEND)\n",
    "vocab_path = '../pix2code/bin/{}/'.format(BACKEND)"
   ]
  },
  {
   "cell_type": "markdown",
   "metadata": {},
   "source": [
    "# Load Data (tokens, images)"
   ]
  },
  {
   "cell_type": "code",
   "execution_count": 78,
   "metadata": {},
   "outputs": [
    {
     "name": "stdout",
     "output_type": "stream",
     "text": [
      "Loaded succesfully\n"
     ]
    }
   ],
   "source": [
    "def process_string(data_dir, file):\n",
    "    \"\"\"Turns the gui descriptor files into a list of their 'words'\"\"\"\n",
    "    f = open(join(data_dir, file))\n",
    "    list_words = f.read().split()\n",
    "    new_list = []\n",
    "    for word in list_words:\n",
    "        # Remove special characters\n",
    "        special_characters = \" ,\\n\"\n",
    "        for c in special_characters:\n",
    "            word = word.replace(c, '')\n",
    "        new_list.append(word)\n",
    "    return new_list\n",
    "\n",
    "def load_data(data_dir):\n",
    "    \"\"\"Loads in the sentence and image data together.\n",
    "    Returns (sentences, images)\"\"\"\n",
    "    images = []\n",
    "    sentences = []\n",
    "    files = os.listdir(data_dir)\n",
    "    for listing in files:\n",
    "        # Load the sentence files, then the images\n",
    "        # There are less likely to be user-made files in this dir that end with .gui\n",
    "        if listing.endswith('.gui'):\n",
    "            base = listing[:-4]\n",
    "            try:\n",
    "                img_f = join(data_dir, base + '.npz')\n",
    "                img = np.load(img_f)['features']\n",
    "            except Exception as e:\n",
    "                print(e)\n",
    "                print(\"Error trying to match img for {}\".format(listing))\n",
    "                continue\n",
    "            sent = process_string(data_dir, listing)\n",
    "            sentences.append(sent)\n",
    "            images.append(img)\n",
    "    return sentences, np.array(images)\n",
    "\n",
    "sentences, GUIS = load_data(traindir)\n",
    "assert len(sentences) == len(GUIS) and len(sentences) == 1500\n",
    "print(\"Loaded succesfully\")"
   ]
  },
  {
   "cell_type": "markdown",
   "metadata": {},
   "source": [
    "# One Hot\n",
    "\n",
    "Here we are drawing on files and a class from pix2code training. This Vocabulary class is from `pix2code/model/classes/Vocabulary.py`"
   ]
  },
  {
   "cell_type": "code",
   "execution_count": 9,
   "metadata": {},
   "outputs": [],
   "source": [
    "voc = Vocabulary()\n",
    "voc.retrieve(vocab_path)\n",
    "VOCAB_SIZE = len(voc.binary_vocabulary)"
   ]
  },
  {
   "cell_type": "code",
   "execution_count": 79,
   "metadata": {
    "ExecuteTime": {
     "end_time": "2018-04-18T20:38:24.701841Z",
     "start_time": "2018-04-18T20:38:23.574258Z"
    }
   },
   "outputs": [
    {
     "name": "stdout",
     "output_type": "stream",
     "text": [
      "Converted to one-hot succesfully\n"
     ]
    }
   ],
   "source": [
    "#Find max seq length\n",
    "max_length = 0\n",
    "for j in range(len(sentences)):\n",
    "    if len(sentences) > max_length:\n",
    "        max_length = len(sentences)\n",
    "\n",
    "def to_hot(sentences, max_length, voc):\n",
    "    hot = np.zeros((len(sentences), max_length, len(voc.binary_vocabulary)))\n",
    "    for i, sent in enumerate(sentences):\n",
    "        for j, word in enumerate(sent):\n",
    "            hot[i, j] = voc.binary_vocabulary[word]\n",
    "    return hot\n",
    "hot = to_hot(sentences, max_length, voc)\n",
    "assert len(hot) == 1500\n",
    "print(\"Converted to one-hot succesfully\")"
   ]
  },
  {
   "cell_type": "markdown",
   "metadata": {},
   "source": [
    "# Word2Vec Model - For fine tuned embeddings\n",
    "---\n",
    "\n",
    "Embedding the DSL sentence representation into condensed, semantically-infused vector representations. *Currently unused.*"
   ]
  },
  {
   "cell_type": "code",
   "execution_count": 38,
   "metadata": {
    "ExecuteTime": {
     "end_time": "2018-04-18T20:38:27.084892Z",
     "start_time": "2018-04-18T20:38:26.107041Z"
    }
   },
   "outputs": [
    {
     "name": "stderr",
     "output_type": "stream",
     "text": [
      "/home/ngundotra/.conda/envs/torchenv/lib/python3.6/site-packages/ipykernel_launcher.py:14: DeprecationWarning: Call to deprecated `__getitem__` (Method will be removed in 4.0.0, use self.wv.__getitem__() instead).\n",
      "  \n"
     ]
    }
   ],
   "source": [
    "#All word embeddings (size of training set x sentence length x 100(embedding dimension))\n",
    "def create_wordembeddings(sentences, EMBED_SIZE):\n",
    "    \"\"\"Creates a Word2Vec model to compress the sentence data.\n",
    "    Returns a np.array of (#sentences, sentence length, EMBED_SIZE)\"\"\"\n",
    "    from gensim.models import Word2Vec\n",
    "    \n",
    "    model = Word2Vec(sentences, min_count=1,size=EMBED_SIZE)\n",
    "    words = list(model.wv.vocab)\n",
    "    \n",
    "    wordembeddings = []\n",
    "    for sentence in sentences:\n",
    "        result_array = np.empty((0, EMBED_SIZE))\n",
    "        for word in sentence:\n",
    "            result = model[word].reshape(1, EMBED_SIZE)\n",
    "            result_array = np.append(result_array, result, axis=0)\n",
    "        result_array = np.pad(result_array, ((max_length - result_array.shape[0],0), (0,0)), 'constant', constant_values = 0)\n",
    "        wordembeddings.append(result_array)\n",
    "    wordembeddings = np.array(wordembeddings)\n",
    "    return wordembeddings\n",
    "\n",
    "wordembeddings = create_wordembeddings(sentences, VOCAB_SIZE)\n",
    "assert wordembeddings.shape[0] == 1500"
   ]
  },
  {
   "cell_type": "markdown",
   "metadata": {},
   "source": [
    "## Extra Model Parts\n",
    "\n",
    "Currently unused. Used in previous iterations to repeat 3D embedding data. For example repeating a (16, 16, 16) embedding."
   ]
  },
  {
   "cell_type": "code",
   "execution_count": 13,
   "metadata": {
    "ExecuteTime": {
     "end_time": "2018-04-18T20:38:29.800684Z",
     "start_time": "2018-04-18T20:38:29.769226Z"
    }
   },
   "outputs": [],
   "source": [
    "#Custom Layer to get from 3D -> 4D\n",
    "class RepeatVector4D(Layer):\n",
    "    def __init__(self, n, **kwargs):\n",
    "        self.n = n\n",
    "        self.input_spec = [InputSpec(ndim=3)]\n",
    "        super(RepeatVector4D, self).__init__(**kwargs)\n",
    "        \n",
    "    def get_output_shape_for(self, input_shape):\n",
    "        return (input_shape[0], self.n, input_shape[1], input_shape[2])\n",
    "    def compute_output_shape(self, input_shape):\n",
    "        return (input_shape[0], self.n, input_shape[1], input_shape[2])\n",
    "\n",
    "    def call(self, x, mask=None):\n",
    "        x = K.expand_dims(x, 1)\n",
    "        pattern = K.stack([1, self.n, 1, 1])\n",
    "        return K.tile(x, pattern)"
   ]
  },
  {
   "cell_type": "markdown",
   "metadata": {},
   "source": [
    "# Model Design\n",
    "\n",
    "Functions that help the model design process."
   ]
  },
  {
   "cell_type": "code",
   "execution_count": 101,
   "metadata": {},
   "outputs": [],
   "source": [
    "def load_frozen(model_path, freeze=False):\n",
    "    model = keras.models.load_model(model_path)\n",
    "    for layer in model.layers:\n",
    "        layer.trainable = False if freeze else True\n",
    "    return model\n",
    "\n",
    "def unroll_v0(model, prev):\n",
    "    \"\"\"Ties the decoder portion of the autoencoder-v0 models from another notebook.\"\"\"\n",
    "    for layer in model.layers[5:]:\n",
    "        prev = layer(prev)\n",
    "    return prev\n",
    "\n",
    "def unroll_v1(model, prev):\n",
    "    \"\"\"Ties the decoder portion of the autoencoder-v1 models from another notebook.\"\"\"\n",
    "    count = 0\n",
    "    for layer in model.layers[-10:]:\n",
    "        prev = layer(prev)\n",
    "    return prev\n",
    "\n",
    "def make_callback(model, dataset):\n",
    "    \"\"\"Creates a lambda callback that plots the models prediction on the first 20 pictures of the dataset.\"\"\"\n",
    "    def callback(epoch, logs):\n",
    "        gif_range(model, dataset, start=0, stop=20)\n",
    "    return keras.callbacks.LambdaCallback(on_epoch_end=callback)\n",
    "\n",
    "def shuffle_weights(model, weights=None):\n",
    "    \"\"\"\n",
    "    @author: jklient\n",
    "    @source: https://github.com/keras-team/keras/issues/341\n",
    "\n",
    "    Randomly permute the weights in `model`, or the given `weights`.\n",
    "\n",
    "    This is a fast approximation of re-initializing the weights of a model.\n",
    "\n",
    "    Assumes weights are distributed independently of the dimensions of the weight tensors\n",
    "      (i.e., the weights have the same distribution along each dimension).\n",
    "\n",
    "    :param Model model: Modify the weights of the given model.\n",
    "    :param list(ndarray) weights: The model's weights will be replaced by a random permutation of these weights.\n",
    "      If `None`, permute the model's current weights.\n",
    "    \"\"\"\n",
    "    if weights is None:\n",
    "        weights = model.get_weights()\n",
    "    weights = [np.random.permutation(w.flat).reshape(w.shape) for w in weights]\n",
    "    # Faster, but less random: only permutes along the first dimension\n",
    "    # weights = [np.random.permutation(w) for w in weights]\n",
    "    model.set_weights(weights)\n",
    "    \n",
    "def gif_range(model, data, start=0, stop=1, save=True):\n",
    "    \"\"\"\n",
    "    Adapted from - \n",
    "    @author: Eli Bendersky\n",
    "    @source: https://eli.thegreenplace.net/2016/drawing-animated-gifs-with-matplotlib/\n",
    "    Makes a GIF that reveals the model's predictions for the first (stop-start) images in data.\n",
    "    Saves the GIF to `dsl_predictions.gif`\n",
    "    \"\"\"\n",
    "    import sys\n",
    "    from matplotlib.animation import FuncAnimation\n",
    "\n",
    "    fig, ax = plt.subplots()\n",
    "    #   fig.set_tight_layout(True)\n",
    "\n",
    "    # Query the figure's on-screen size and DPI. Note that when saving the figure to\n",
    "    # a file, we need to provide a DPI for that separately.\n",
    "    #   print('fig size: {0} DPI, size in inches {1}'.format(\n",
    "    #       fig.get_dpi(), fig.get_size_inches()))\n",
    "    \n",
    "    ax.set_xticks([])\n",
    "    ax.set_yticks([])\n",
    "        \n",
    "    def update(i):\n",
    "        label = 'wordembedding {0}'.format(i)\n",
    "        # print(label)\n",
    "        ax.imshow(model.predict(np.expand_dims(data[i], axis=0))[0])\n",
    "        ax.set_xlabel(label)\n",
    "        return ax\n",
    "    \n",
    "    fig.tight_layout()\n",
    "    anim = FuncAnimation(fig, update, frames=np.arange(start, stop), interval=70)\n",
    "    if save:\n",
    "        anim.save('dsl_predictions.gif', dpi=80, writer='imagemagick')\n",
    "    else:\n",
    "        # plt.show() will just loop the animation forever.\n",
    "        plt.show()\n",
    "    plt.close(fig)\n",
    "    \n",
    "def make_model_old(encoder_path, lstm_decoder_path, autoencoder_path='model/autoencoders-v0/ios.h5'):\n",
    "    \"\"\"A deprecated iteration of the dsl2pix model design.\"\"\"\n",
    "    # Freeze the pretrained encoder & decoder (respectively)\n",
    "    pix2code_lstm = load_frozen(encoder_path, False)\n",
    "    autoencoder = load_frozen(autoencoder_path, False)\n",
    "\n",
    "    x_in = Input(shape = (max_length, VOCAB_SIZE), name = 'x_in')\n",
    "    x_flatten = Flatten()(x_in)\n",
    "    last = Dense(912, activation='relu')(x_flatten)\n",
    "    drop_rate = 0.1\n",
    "    last = Dropout(drop_rate)(last)\n",
    "    #y_lstm = LSTM(128, return_sequences = True, input_shape=(max_length, 100))(y_in)\n",
    "    \n",
    "    b1 = Dense(48*48, activation='relu')(x_flatten)\n",
    "    b1 = Reshape((48, 48, 1))(b1)\n",
    "    b1 = Conv2D(filters=64, kernel_size=(3,3), strides=(3,3), padding='valid', \n",
    "                activation='relu', name='b1conv_1')(b1)\n",
    "    b1 = Conv2D(16, (3,3), strides=(1,1), padding='same', activation='relu')(b1)\n",
    "    last = Reshape((48, 19))(last) # Input size of pix2code's first encoder\n",
    "    last = LSTM(19, return_sequences=True)(last)\n",
    "    last = LSTM(19, return_sequences=True)(last)\n",
    "    last = pix2code_lstm(last)\n",
    "    last = LSTM(128, return_sequences = True)(last)\n",
    "    last = LSTM(256, return_sequences = True)(last)\n",
    "    last = Dropout(drop_rate)(last)\n",
    "    last = LSTM(512, return_sequences = False)(last)\n",
    "    reshape = Reshape((8,8,8))(last)\n",
    "    last = UpSampling2D((2,2), name='upsampler-trainable')(reshape)\n",
    "    last = Conv2D(32, kernel_size=(4,4), padding='same', activation='relu')(last)\n",
    "#     last = Dropout(drop_rate)(last)\n",
    "    last = Conv2D(16, kernel_size=(3,3), padding='same', activation='relu')(last)\n",
    "    last = Reshape((16,16,16))(last)\n",
    "    \n",
    "    # Load in the v0 autoencoder\n",
    "    last = keras.layers.Add()([b1, last])\n",
    "    last = Conv2D(16, kernel_size=(2,2), padding='same',activation='relu')(last)\n",
    "    last = unroll_v1(autoencoder, last)\n",
    "    \n",
    "    model = Model(x_in, last)\n",
    "    model.compile(optimizer='rmsprop', loss='binary_crossentropy')\n",
    "    return model\n",
    "\n",
    "def unroll_hydra(model, last):\n",
    "    return model.layers[-1](last)"
   ]
  },
  {
   "cell_type": "code",
   "execution_count": 100,
   "metadata": {},
   "outputs": [
    {
     "name": "stdout",
     "output_type": "stream",
     "text": [
      "Train on 1400 samples, validate on 100 samples\n",
      "Epoch 1/65\n",
      "1400/1400 [==============================] - 7s 5ms/step - loss: 0.2345 - val_loss: 0.1793\n",
      "fig size: 72.0 DPI, size in inches [6. 4.]\n",
      "Epoch 2/65\n",
      "1400/1400 [==============================] - 7s 5ms/step - loss: 0.1733 - val_loss: 0.1628\n",
      "fig size: 72.0 DPI, size in inches [6. 4.]\n",
      "Epoch 3/65\n",
      "1400/1400 [==============================] - 7s 5ms/step - loss: 0.1652 - val_loss: 0.1603\n",
      "fig size: 72.0 DPI, size in inches [6. 4.]\n",
      "Epoch 4/65\n",
      "1400/1400 [==============================] - 7s 5ms/step - loss: 0.1605 - val_loss: 0.1548\n",
      "fig size: 72.0 DPI, size in inches [6. 4.]\n",
      "Epoch 5/65\n",
      "1400/1400 [==============================] - 7s 5ms/step - loss: 0.1579 - val_loss: 0.1543\n",
      "fig size: 72.0 DPI, size in inches [6. 4.]\n",
      "Epoch 6/65\n",
      "1400/1400 [==============================] - 7s 5ms/step - loss: 0.1553 - val_loss: 0.1505\n",
      "fig size: 72.0 DPI, size in inches [6. 4.]\n",
      "Epoch 7/65\n",
      "1400/1400 [==============================] - 7s 5ms/step - loss: 0.1536 - val_loss: 0.1502\n",
      "fig size: 72.0 DPI, size in inches [6. 4.]\n",
      "Epoch 8/65\n",
      "1400/1400 [==============================] - 7s 5ms/step - loss: 0.1526 - val_loss: 0.1503\n",
      "fig size: 72.0 DPI, size in inches [6. 4.]\n",
      "Epoch 9/65\n",
      "1400/1400 [==============================] - 7s 5ms/step - loss: 0.1518 - val_loss: 0.1508\n",
      "fig size: 72.0 DPI, size in inches [6. 4.]\n",
      "Epoch 10/65\n",
      "1400/1400 [==============================] - 7s 5ms/step - loss: 0.1511 - val_loss: 0.1490\n",
      "fig size: 72.0 DPI, size in inches [6. 4.]\n",
      "Epoch 11/65\n",
      "1400/1400 [==============================] - 7s 5ms/step - loss: 0.1504 - val_loss: 0.1482\n",
      "fig size: 72.0 DPI, size in inches [6. 4.]\n",
      "Epoch 12/65\n",
      "1400/1400 [==============================] - 7s 5ms/step - loss: 0.1499 - val_loss: 0.1480\n",
      "fig size: 72.0 DPI, size in inches [6. 4.]\n",
      "Epoch 13/65\n",
      "1400/1400 [==============================] - 7s 5ms/step - loss: 0.1491 - val_loss: 0.1455\n",
      "fig size: 72.0 DPI, size in inches [6. 4.]\n",
      "Epoch 14/65\n",
      "1400/1400 [==============================] - 7s 5ms/step - loss: 0.1489 - val_loss: 0.1468\n",
      "fig size: 72.0 DPI, size in inches [6. 4.]\n",
      "Epoch 15/65\n",
      "1400/1400 [==============================] - 7s 5ms/step - loss: 0.1483 - val_loss: 0.1455\n",
      "fig size: 72.0 DPI, size in inches [6. 4.]\n",
      "Epoch 16/65\n",
      "1400/1400 [==============================] - 7s 5ms/step - loss: 0.1484 - val_loss: 0.1454\n",
      "fig size: 72.0 DPI, size in inches [6. 4.]\n",
      "Epoch 17/65\n",
      "1400/1400 [==============================] - 7s 5ms/step - loss: 0.1478 - val_loss: 0.1459\n",
      "fig size: 72.0 DPI, size in inches [6. 4.]\n",
      "Epoch 18/65\n",
      "1400/1400 [==============================] - 7s 5ms/step - loss: 0.1480 - val_loss: 0.1452\n",
      "fig size: 72.0 DPI, size in inches [6. 4.]\n",
      "Epoch 19/65\n",
      "1400/1400 [==============================] - 7s 5ms/step - loss: 0.1473 - val_loss: 0.1454\n",
      "fig size: 72.0 DPI, size in inches [6. 4.]\n",
      "Epoch 20/65\n",
      "1400/1400 [==============================] - 7s 5ms/step - loss: 0.1474 - val_loss: 0.1451\n",
      "fig size: 72.0 DPI, size in inches [6. 4.]\n",
      "Epoch 21/65\n",
      "1400/1400 [==============================] - 7s 5ms/step - loss: 0.1471 - val_loss: 0.1458\n",
      "fig size: 72.0 DPI, size in inches [6. 4.]\n",
      "Epoch 22/65\n",
      "1400/1400 [==============================] - 7s 5ms/step - loss: 0.1470 - val_loss: 0.1443\n",
      "fig size: 72.0 DPI, size in inches [6. 4.]\n",
      "Epoch 23/65\n",
      "1400/1400 [==============================] - 7s 5ms/step - loss: 0.1468 - val_loss: 0.1442\n",
      "fig size: 72.0 DPI, size in inches [6. 4.]\n",
      "Epoch 24/65\n",
      "1400/1400 [==============================] - 7s 5ms/step - loss: 0.1465 - val_loss: 0.1443\n",
      "fig size: 72.0 DPI, size in inches [6. 4.]\n",
      "Epoch 25/65\n",
      "1400/1400 [==============================] - 7s 5ms/step - loss: 0.1466 - val_loss: 0.1438\n",
      "fig size: 72.0 DPI, size in inches [6. 4.]\n",
      "Epoch 26/65\n",
      "1400/1400 [==============================] - 7s 5ms/step - loss: 0.1461 - val_loss: 0.1439\n",
      "fig size: 72.0 DPI, size in inches [6. 4.]\n",
      "Epoch 27/65\n",
      "1400/1400 [==============================] - 7s 5ms/step - loss: 0.1462 - val_loss: 0.1436\n",
      "fig size: 72.0 DPI, size in inches [6. 4.]\n",
      "Epoch 28/65\n",
      "1400/1400 [==============================] - 7s 5ms/step - loss: 0.1458 - val_loss: 0.1438\n",
      "fig size: 72.0 DPI, size in inches [6. 4.]\n",
      "Epoch 29/65\n",
      "1400/1400 [==============================] - 7s 5ms/step - loss: 0.1458 - val_loss: 0.1454\n",
      "fig size: 72.0 DPI, size in inches [6. 4.]\n",
      "Epoch 30/65\n",
      "1400/1400 [==============================] - 7s 5ms/step - loss: 0.1461 - val_loss: 0.1437\n",
      "fig size: 72.0 DPI, size in inches [6. 4.]\n",
      "Epoch 31/65\n",
      "1400/1400 [==============================] - 7s 5ms/step - loss: 0.1456 - val_loss: 0.1435\n",
      "fig size: 72.0 DPI, size in inches [6. 4.]\n",
      "Epoch 32/65\n",
      "1400/1400 [==============================] - 7s 5ms/step - loss: 0.1456 - val_loss: 0.1450\n",
      "fig size: 72.0 DPI, size in inches [6. 4.]\n",
      "Epoch 33/65\n",
      "1400/1400 [==============================] - 7s 5ms/step - loss: 0.1454 - val_loss: 0.1435\n",
      "fig size: 72.0 DPI, size in inches [6. 4.]\n",
      "Epoch 34/65\n",
      "1400/1400 [==============================] - 7s 5ms/step - loss: 0.1455 - val_loss: 0.1436\n",
      "fig size: 72.0 DPI, size in inches [6. 4.]\n",
      "Epoch 35/65\n",
      "1400/1400 [==============================] - 7s 5ms/step - loss: 0.1454 - val_loss: 0.1434\n",
      "fig size: 72.0 DPI, size in inches [6. 4.]\n",
      "Epoch 36/65\n",
      "1400/1400 [==============================] - 7s 5ms/step - loss: 0.1456 - val_loss: 0.1445\n",
      "fig size: 72.0 DPI, size in inches [6. 4.]\n",
      "Epoch 37/65\n",
      "1400/1400 [==============================] - 7s 5ms/step - loss: 0.1455 - val_loss: 0.1444\n",
      "fig size: 72.0 DPI, size in inches [6. 4.]\n",
      "Epoch 38/65\n",
      "1400/1400 [==============================] - 7s 5ms/step - loss: 0.1455 - val_loss: 0.1435\n",
      "fig size: 72.0 DPI, size in inches [6. 4.]\n",
      "Epoch 39/65\n",
      "1400/1400 [==============================] - 7s 5ms/step - loss: 0.1450 - val_loss: 0.1433\n",
      "fig size: 72.0 DPI, size in inches [6. 4.]\n",
      "Epoch 40/65\n",
      "1400/1400 [==============================] - 7s 5ms/step - loss: 0.1454 - val_loss: 0.1431\n",
      "fig size: 72.0 DPI, size in inches [6. 4.]\n",
      "Epoch 41/65\n",
      "1400/1400 [==============================] - 7s 5ms/step - loss: 0.1453 - val_loss: 0.1499\n",
      "fig size: 72.0 DPI, size in inches [6. 4.]\n",
      "Epoch 42/65\n",
      "1400/1400 [==============================] - 7s 5ms/step - loss: 0.1451 - val_loss: 0.1446\n",
      "fig size: 72.0 DPI, size in inches [6. 4.]\n",
      "Epoch 43/65\n",
      "1400/1400 [==============================] - 7s 5ms/step - loss: 0.1450 - val_loss: 0.1433\n",
      "fig size: 72.0 DPI, size in inches [6. 4.]\n",
      "Epoch 44/65\n",
      "1400/1400 [==============================] - 7s 5ms/step - loss: 0.1452 - val_loss: 0.1488\n",
      "fig size: 72.0 DPI, size in inches [6. 4.]\n",
      "Epoch 45/65\n",
      "1400/1400 [==============================] - 7s 5ms/step - loss: 0.1451 - val_loss: 0.1431\n",
      "fig size: 72.0 DPI, size in inches [6. 4.]\n",
      "Epoch 46/65\n",
      "1400/1400 [==============================] - 7s 5ms/step - loss: 0.1447 - val_loss: 0.1443\n",
      "fig size: 72.0 DPI, size in inches [6. 4.]\n",
      "Epoch 47/65\n",
      "1400/1400 [==============================] - 7s 5ms/step - loss: 0.1449 - val_loss: 0.1431\n",
      "fig size: 72.0 DPI, size in inches [6. 4.]\n"
     ]
    },
    {
     "data": {
      "text/plain": [
       "<keras.callbacks.History at 0x7f6fceb26a90>"
      ]
     },
     "execution_count": 100,
     "metadata": {},
     "output_type": "execute_result"
    }
   ],
   "source": [
    "def make_conv(autoencoder_path):\n",
    "    \"\"\"1D conv model :/\"\"\"\n",
    "    x_in = Input(shape=(max_length, VOCAB_SIZE))\n",
    "    last = Conv1D(64, 7, padding='same', activation='relu')(x_in)\n",
    "    last = MaxPooling1D()(last)\n",
    "    last = Conv1D(64, 5, padding='same', activation='relu')(last)\n",
    "    last = Conv1D(128, 4, padding='same', activation='relu')(last)\n",
    "    last = MaxPooling1D()(last)\n",
    "    last = Flatten()(last)\n",
    "    last = Dense(1024, activation='relu')(last)\n",
    "    autoencoder = load_frozen(autoencoder_path, freeze=False)\n",
    "    last = Reshape((8, 8, 16))(last)\n",
    "    last = UpSampling2D()(last)\n",
    "    last = unroll_hydra(autoencoder, last)\n",
    "    model = Model(x_in, last)\n",
    "    model.compile(RMSprop(lr=0.01), loss='binary_crossentropy')\n",
    "    return model\n",
    "\n",
    "\n",
    "clear_session()\n",
    "model = make_conv('ios-hydra-model')\n",
    "# Uncomment to see the number of model parameters\n",
    "# model.summary()\n",
    "val_plot = make_callback(model, hot[1400:])\n",
    "early_stop = EarlyStopping(monitor='val_loss', patience=7)\n",
    "model.fit(hot[:1400], GUIS[:1400], callbacks=[val_plot, early_stop],\n",
    "          validation_data=(hot[1400:], GUIS[1400:]),epochs=65, batch_size=32, shuffle=False)"
   ]
  },
  {
   "cell_type": "code",
   "execution_count": 105,
   "metadata": {},
   "outputs": [],
   "source": [
    "model.save('dsl2pix-{}'.format(BACKEND))"
   ]
  },
  {
   "cell_type": "markdown",
   "metadata": {},
   "source": [
    "# Visualizing Results"
   ]
  },
  {
   "cell_type": "code",
   "execution_count": 96,
   "metadata": {},
   "outputs": [
    {
     "name": "stdout",
     "output_type": "stream",
     "text": [
      "gui descriptor:\t stack { row { label switch } row { label btn-add } row { img img img } row { label switch } row { label btn-add } row { label slider label } row { label slider label } row { label btn-add } } footer { btn-download btn-download btn-more }\n",
      "Counter({'{': 10, '}': 10, 'label': 9, 'row': 8, 'btn-add': 3, 'img': 3, 'switch': 2, 'slider': 2, 'btn-download': 2, 'stack': 1, 'footer': 1, 'btn-more': 1})\n"
     ]
    },
    {
     "data": {
      "image/png": "[encoded data removed]",
      "text/plain": [
       "<matplotlib.figure.Figure at 0x7f7052b239b0>"
      ]
     },
     "metadata": {},
     "output_type": "display_data"
    }
   ],
   "source": [
    "from collections import Counter\n",
    "\n",
    "def compare(sentences, hot, pics, idx):\n",
    "    \"\"\"Compares the results of the model.\n",
    "\n",
    "    Displays the input to the model, output of the model on the input, and ground truth.\n",
    "    Input to the model is chosen as the hot[idx].\n",
    "    \"\"\"\n",
    "    fig, axes = plt.subplots(1, 2)\n",
    "    for ax in axes:\n",
    "        ax.set_yticks([])\n",
    "        ax.set_xticks([])\n",
    "    \n",
    "    axes[0].imshow(model.predict(np.expand_dims(hot[idx], 0))[0])\n",
    "    axes[0].set_xlabel(\"Predicted GUI\")\n",
    "    axes[1].imshow(pics[idx])\n",
    "    axes[1].set_xlabel(\"Actual GUI\")\n",
    "    \n",
    "    print('gui descriptor:\\t', ' '.join(sentences[idx]))\n",
    "    count = Counter(sentences[idx])\n",
    "    print(count)\n",
    "    return count\n",
    "        \n",
    "count = compare(sentences, hot, GUIS, 22)"
   ]
  },
  {
   "cell_type": "markdown",
   "metadata": {},
   "source": [
    "# LSTM-Based Model\n",
    "\n",
    "This model is based off the pix2code model design. This model uses lstms to encode the token data, and loads in pretrained lstms from the pix2code models. Super slow to train ~3min/epoch. Not sure if converges"
   ]
  },
  {
   "cell_type": "code",
   "execution_count": 86,
   "metadata": {
    "collapsed": true
   },
   "outputs": [
    {
     "name": "stderr",
     "output_type": "stream",
     "text": [
      "/home/ngundotra/.conda/envs/torchenv/lib/python3.6/site-packages/keras/models.py:255: UserWarning: No training configuration found in save file: the model was *not* compiled. Compile it manually.\n",
      "  warnings.warn('No training configuration found in save file: '\n"
     ]
    },
    {
     "name": "stdout",
     "output_type": "stream",
     "text": [
      "Train on 1200 samples, validate on 300 samples\n",
      "Epoch 1/200\n",
      "1200/1200 [==============================] - 207s 173ms/step - loss: 0.1852 - val_loss: 0.1779\n",
      "fig size: 72.0 DPI, size in inches [6. 4.]\n",
      "Epoch 2/200\n",
      "1200/1200 [==============================] - 207s 172ms/step - loss: 0.1746 - val_loss: 0.1805\n",
      "fig size: 72.0 DPI, size in inches [6. 4.]\n",
      "Epoch 3/200\n",
      " 576/1200 [=============>................] - ETA: 1:44 - loss: 0.1731"
     ]
    },
    {
     "ename": "KeyboardInterrupt",
     "evalue": "",
     "output_type": "error",
     "traceback": [
      "\u001b[0;31m---------------------------------------------------------------------------\u001b[0m",
      "\u001b[0;31mKeyboardInterrupt\u001b[0m                         Traceback (most recent call last)",
      "\u001b[0;32m<ipython-input-86-cb6390c1a4f6>\u001b[0m in \u001b[0;36m<module>\u001b[0;34m()\u001b[0m\n\u001b[1;32m     41\u001b[0m \u001b[0mcallback\u001b[0m \u001b[0;34m=\u001b[0m \u001b[0mmake_callback\u001b[0m\u001b[0;34m(\u001b[0m\u001b[0mmodel\u001b[0m\u001b[0;34m,\u001b[0m \u001b[0mhot\u001b[0m\u001b[0;34m)\u001b[0m\u001b[0;34m\u001b[0m\u001b[0m\n\u001b[1;32m     42\u001b[0m \u001b[0;31m# shuffle_weights(model)\u001b[0m\u001b[0;34m\u001b[0m\u001b[0;34m\u001b[0m\u001b[0m\n\u001b[0;32m---> 43\u001b[0;31m \u001b[0mmodel\u001b[0m\u001b[0;34m.\u001b[0m\u001b[0mfit\u001b[0m\u001b[0;34m(\u001b[0m\u001b[0mhot\u001b[0m\u001b[0;34m,\u001b[0m \u001b[0mGUIS\u001b[0m\u001b[0;34m,\u001b[0m \u001b[0mcallbacks\u001b[0m\u001b[0;34m=\u001b[0m\u001b[0;34m[\u001b[0m\u001b[0mcallback\u001b[0m\u001b[0;34m]\u001b[0m\u001b[0;34m,\u001b[0m \u001b[0mepochs\u001b[0m\u001b[0;34m=\u001b[0m\u001b[0;36m200\u001b[0m\u001b[0;34m,\u001b[0m \u001b[0mbatch_size\u001b[0m\u001b[0;34m=\u001b[0m\u001b[0;36m32\u001b[0m\u001b[0;34m,\u001b[0m \u001b[0mvalidation_split\u001b[0m\u001b[0;34m=\u001b[0m\u001b[0;36m0.2\u001b[0m\u001b[0;34m,\u001b[0m \u001b[0mshuffle\u001b[0m\u001b[0;34m=\u001b[0m\u001b[0;32mFalse\u001b[0m\u001b[0;34m)\u001b[0m\u001b[0;34m\u001b[0m\u001b[0m\n\u001b[0m",
      "\u001b[0;32m~/.conda/envs/torchenv/lib/python3.6/site-packages/keras/engine/training.py\u001b[0m in \u001b[0;36mfit\u001b[0;34m(self, x, y, batch_size, epochs, verbose, callbacks, validation_split, validation_data, shuffle, class_weight, sample_weight, initial_epoch, steps_per_epoch, validation_steps, **kwargs)\u001b[0m\n\u001b[1;32m   1703\u001b[0m                               \u001b[0minitial_epoch\u001b[0m\u001b[0;34m=\u001b[0m\u001b[0minitial_epoch\u001b[0m\u001b[0;34m,\u001b[0m\u001b[0;34m\u001b[0m\u001b[0m\n\u001b[1;32m   1704\u001b[0m                               \u001b[0msteps_per_epoch\u001b[0m\u001b[0;34m=\u001b[0m\u001b[0msteps_per_epoch\u001b[0m\u001b[0;34m,\u001b[0m\u001b[0;34m\u001b[0m\u001b[0m\n\u001b[0;32m-> 1705\u001b[0;31m                               validation_steps=validation_steps)\n\u001b[0m\u001b[1;32m   1706\u001b[0m \u001b[0;34m\u001b[0m\u001b[0m\n\u001b[1;32m   1707\u001b[0m     def evaluate(self, x=None, y=None,\n",
      "\u001b[0;32m~/.conda/envs/torchenv/lib/python3.6/site-packages/keras/engine/training.py\u001b[0m in \u001b[0;36m_fit_loop\u001b[0;34m(self, f, ins, out_labels, batch_size, epochs, verbose, callbacks, val_f, val_ins, shuffle, callback_metrics, initial_epoch, steps_per_epoch, validation_steps)\u001b[0m\n\u001b[1;32m   1233\u001b[0m                         \u001b[0mins_batch\u001b[0m\u001b[0;34m[\u001b[0m\u001b[0mi\u001b[0m\u001b[0;34m]\u001b[0m \u001b[0;34m=\u001b[0m \u001b[0mins_batch\u001b[0m\u001b[0;34m[\u001b[0m\u001b[0mi\u001b[0m\u001b[0;34m]\u001b[0m\u001b[0;34m.\u001b[0m\u001b[0mtoarray\u001b[0m\u001b[0;34m(\u001b[0m\u001b[0;34m)\u001b[0m\u001b[0;34m\u001b[0m\u001b[0m\n\u001b[1;32m   1234\u001b[0m \u001b[0;34m\u001b[0m\u001b[0m\n\u001b[0;32m-> 1235\u001b[0;31m                     \u001b[0mouts\u001b[0m \u001b[0;34m=\u001b[0m \u001b[0mf\u001b[0m\u001b[0;34m(\u001b[0m\u001b[0mins_batch\u001b[0m\u001b[0;34m)\u001b[0m\u001b[0;34m\u001b[0m\u001b[0m\n\u001b[0m\u001b[1;32m   1236\u001b[0m                     \u001b[0;32mif\u001b[0m \u001b[0;32mnot\u001b[0m \u001b[0misinstance\u001b[0m\u001b[0;34m(\u001b[0m\u001b[0mouts\u001b[0m\u001b[0;34m,\u001b[0m \u001b[0mlist\u001b[0m\u001b[0;34m)\u001b[0m\u001b[0;34m:\u001b[0m\u001b[0;34m\u001b[0m\u001b[0m\n\u001b[1;32m   1237\u001b[0m                         \u001b[0mouts\u001b[0m \u001b[0;34m=\u001b[0m \u001b[0;34m[\u001b[0m\u001b[0mouts\u001b[0m\u001b[0;34m]\u001b[0m\u001b[0;34m\u001b[0m\u001b[0m\n",
      "\u001b[0;32m~/.conda/envs/torchenv/lib/python3.6/site-packages/keras/backend/tensorflow_backend.py\u001b[0m in \u001b[0;36m__call__\u001b[0;34m(self, inputs)\u001b[0m\n\u001b[1;32m   2476\u001b[0m         \u001b[0msession\u001b[0m \u001b[0;34m=\u001b[0m \u001b[0mget_session\u001b[0m\u001b[0;34m(\u001b[0m\u001b[0;34m)\u001b[0m\u001b[0;34m\u001b[0m\u001b[0m\n\u001b[1;32m   2477\u001b[0m         updated = session.run(fetches=fetches, feed_dict=feed_dict,\n\u001b[0;32m-> 2478\u001b[0;31m                               **self.session_kwargs)\n\u001b[0m\u001b[1;32m   2479\u001b[0m         \u001b[0;32mreturn\u001b[0m \u001b[0mupdated\u001b[0m\u001b[0;34m[\u001b[0m\u001b[0;34m:\u001b[0m\u001b[0mlen\u001b[0m\u001b[0;34m(\u001b[0m\u001b[0mself\u001b[0m\u001b[0;34m.\u001b[0m\u001b[0moutputs\u001b[0m\u001b[0;34m)\u001b[0m\u001b[0;34m]\u001b[0m\u001b[0;34m\u001b[0m\u001b[0m\n\u001b[1;32m   2480\u001b[0m \u001b[0;34m\u001b[0m\u001b[0m\n",
      "\u001b[0;32m~/.conda/envs/torchenv/lib/python3.6/site-packages/tensorflow/python/client/session.py\u001b[0m in \u001b[0;36mrun\u001b[0;34m(self, fetches, feed_dict, options, run_metadata)\u001b[0m\n\u001b[1;32m    887\u001b[0m     \u001b[0;32mtry\u001b[0m\u001b[0;34m:\u001b[0m\u001b[0;34m\u001b[0m\u001b[0m\n\u001b[1;32m    888\u001b[0m       result = self._run(None, fetches, feed_dict, options_ptr,\n\u001b[0;32m--> 889\u001b[0;31m                          run_metadata_ptr)\n\u001b[0m\u001b[1;32m    890\u001b[0m       \u001b[0;32mif\u001b[0m \u001b[0mrun_metadata\u001b[0m\u001b[0;34m:\u001b[0m\u001b[0;34m\u001b[0m\u001b[0m\n\u001b[1;32m    891\u001b[0m         \u001b[0mproto_data\u001b[0m \u001b[0;34m=\u001b[0m \u001b[0mtf_session\u001b[0m\u001b[0;34m.\u001b[0m\u001b[0mTF_GetBuffer\u001b[0m\u001b[0;34m(\u001b[0m\u001b[0mrun_metadata_ptr\u001b[0m\u001b[0;34m)\u001b[0m\u001b[0;34m\u001b[0m\u001b[0m\n",
      "\u001b[0;32m~/.conda/envs/torchenv/lib/python3.6/site-packages/tensorflow/python/client/session.py\u001b[0m in \u001b[0;36m_run\u001b[0;34m(self, handle, fetches, feed_dict, options, run_metadata)\u001b[0m\n\u001b[1;32m   1118\u001b[0m     \u001b[0;32mif\u001b[0m \u001b[0mfinal_fetches\u001b[0m \u001b[0;32mor\u001b[0m \u001b[0mfinal_targets\u001b[0m \u001b[0;32mor\u001b[0m \u001b[0;34m(\u001b[0m\u001b[0mhandle\u001b[0m \u001b[0;32mand\u001b[0m \u001b[0mfeed_dict_tensor\u001b[0m\u001b[0;34m)\u001b[0m\u001b[0;34m:\u001b[0m\u001b[0;34m\u001b[0m\u001b[0m\n\u001b[1;32m   1119\u001b[0m       results = self._do_run(handle, final_targets, final_fetches,\n\u001b[0;32m-> 1120\u001b[0;31m                              feed_dict_tensor, options, run_metadata)\n\u001b[0m\u001b[1;32m   1121\u001b[0m     \u001b[0;32melse\u001b[0m\u001b[0;34m:\u001b[0m\u001b[0;34m\u001b[0m\u001b[0m\n\u001b[1;32m   1122\u001b[0m       \u001b[0mresults\u001b[0m \u001b[0;34m=\u001b[0m \u001b[0;34m[\u001b[0m\u001b[0;34m]\u001b[0m\u001b[0;34m\u001b[0m\u001b[0m\n",
      "\u001b[0;32m~/.conda/envs/torchenv/lib/python3.6/site-packages/tensorflow/python/client/session.py\u001b[0m in \u001b[0;36m_do_run\u001b[0;34m(self, handle, target_list, fetch_list, feed_dict, options, run_metadata)\u001b[0m\n\u001b[1;32m   1315\u001b[0m     \u001b[0;32mif\u001b[0m \u001b[0mhandle\u001b[0m \u001b[0;32mis\u001b[0m \u001b[0;32mNone\u001b[0m\u001b[0;34m:\u001b[0m\u001b[0;34m\u001b[0m\u001b[0m\n\u001b[1;32m   1316\u001b[0m       return self._do_call(_run_fn, self._session, feeds, fetches, targets,\n\u001b[0;32m-> 1317\u001b[0;31m                            options, run_metadata)\n\u001b[0m\u001b[1;32m   1318\u001b[0m     \u001b[0;32melse\u001b[0m\u001b[0;34m:\u001b[0m\u001b[0;34m\u001b[0m\u001b[0m\n\u001b[1;32m   1319\u001b[0m       \u001b[0;32mreturn\u001b[0m \u001b[0mself\u001b[0m\u001b[0;34m.\u001b[0m\u001b[0m_do_call\u001b[0m\u001b[0;34m(\u001b[0m\u001b[0m_prun_fn\u001b[0m\u001b[0;34m,\u001b[0m \u001b[0mself\u001b[0m\u001b[0;34m.\u001b[0m\u001b[0m_session\u001b[0m\u001b[0;34m,\u001b[0m \u001b[0mhandle\u001b[0m\u001b[0;34m,\u001b[0m \u001b[0mfeeds\u001b[0m\u001b[0;34m,\u001b[0m \u001b[0mfetches\u001b[0m\u001b[0;34m)\u001b[0m\u001b[0;34m\u001b[0m\u001b[0m\n",
      "\u001b[0;32m~/.conda/envs/torchenv/lib/python3.6/site-packages/tensorflow/python/client/session.py\u001b[0m in \u001b[0;36m_do_call\u001b[0;34m(self, fn, *args)\u001b[0m\n\u001b[1;32m   1321\u001b[0m   \u001b[0;32mdef\u001b[0m \u001b[0m_do_call\u001b[0m\u001b[0;34m(\u001b[0m\u001b[0mself\u001b[0m\u001b[0;34m,\u001b[0m \u001b[0mfn\u001b[0m\u001b[0;34m,\u001b[0m \u001b[0;34m*\u001b[0m\u001b[0margs\u001b[0m\u001b[0;34m)\u001b[0m\u001b[0;34m:\u001b[0m\u001b[0;34m\u001b[0m\u001b[0m\n\u001b[1;32m   1322\u001b[0m     \u001b[0;32mtry\u001b[0m\u001b[0;34m:\u001b[0m\u001b[0;34m\u001b[0m\u001b[0m\n\u001b[0;32m-> 1323\u001b[0;31m       \u001b[0;32mreturn\u001b[0m \u001b[0mfn\u001b[0m\u001b[0;34m(\u001b[0m\u001b[0;34m*\u001b[0m\u001b[0margs\u001b[0m\u001b[0;34m)\u001b[0m\u001b[0;34m\u001b[0m\u001b[0m\n\u001b[0m\u001b[1;32m   1324\u001b[0m     \u001b[0;32mexcept\u001b[0m \u001b[0merrors\u001b[0m\u001b[0;34m.\u001b[0m\u001b[0mOpError\u001b[0m \u001b[0;32mas\u001b[0m \u001b[0me\u001b[0m\u001b[0;34m:\u001b[0m\u001b[0;34m\u001b[0m\u001b[0m\n\u001b[1;32m   1325\u001b[0m       \u001b[0mmessage\u001b[0m \u001b[0;34m=\u001b[0m \u001b[0mcompat\u001b[0m\u001b[0;34m.\u001b[0m\u001b[0mas_text\u001b[0m\u001b[0;34m(\u001b[0m\u001b[0me\u001b[0m\u001b[0;34m.\u001b[0m\u001b[0mmessage\u001b[0m\u001b[0;34m)\u001b[0m\u001b[0;34m\u001b[0m\u001b[0m\n",
      "\u001b[0;32m~/.conda/envs/torchenv/lib/python3.6/site-packages/tensorflow/python/client/session.py\u001b[0m in \u001b[0;36m_run_fn\u001b[0;34m(session, feed_dict, fetch_list, target_list, options, run_metadata)\u001b[0m\n\u001b[1;32m   1300\u001b[0m           return tf_session.TF_Run(session, options,\n\u001b[1;32m   1301\u001b[0m                                    \u001b[0mfeed_dict\u001b[0m\u001b[0;34m,\u001b[0m \u001b[0mfetch_list\u001b[0m\u001b[0;34m,\u001b[0m \u001b[0mtarget_list\u001b[0m\u001b[0;34m,\u001b[0m\u001b[0;34m\u001b[0m\u001b[0m\n\u001b[0;32m-> 1302\u001b[0;31m                                    status, run_metadata)\n\u001b[0m\u001b[1;32m   1303\u001b[0m \u001b[0;34m\u001b[0m\u001b[0m\n\u001b[1;32m   1304\u001b[0m     \u001b[0;32mdef\u001b[0m \u001b[0m_prun_fn\u001b[0m\u001b[0;34m(\u001b[0m\u001b[0msession\u001b[0m\u001b[0;34m,\u001b[0m \u001b[0mhandle\u001b[0m\u001b[0;34m,\u001b[0m \u001b[0mfeed_dict\u001b[0m\u001b[0;34m,\u001b[0m \u001b[0mfetch_list\u001b[0m\u001b[0;34m)\u001b[0m\u001b[0;34m:\u001b[0m\u001b[0;34m\u001b[0m\u001b[0m\n",
      "\u001b[0;31mKeyboardInterrupt\u001b[0m: "
     ]
    }
   ],
   "source": [
    "def make_model(encoder_path, lstm_decoder_path, autoencoder_path):\n",
    "    # Freeze the pretrained encoder & decoder (respectively)\n",
    "    pix2code_lstm = load_frozen(encoder_path, False)\n",
    "    lstm_decoder = load_frozen(lstm_decoder_path, False)\n",
    "    autoencoder = load_frozen(autoencoder_path, False)\n",
    "\n",
    "    #Input DSL -> Intermediate Encoding through convolution\n",
    "    x_in = Input(shape = (max_length, 19), name = 'x_in')\n",
    "    drop_rate = 0.01\n",
    "#     last = Dropout(drop_rate)(last)\n",
    "#     #y_lstm = LSTM(128, return_sequences = True, input_shape=(max_length, 100))(y_in)\n",
    "    \n",
    "#     b1 = Dense(48*48, activation='relu')(x_flatten)\n",
    "#     b1 = Reshape((48, 48, 1))(b1)\n",
    "#     b1 = Conv2D(filters=64, kernel_size=(3,3), strides=(3,3), padding='valid', \n",
    "#                 activation='relu', name='b1conv_1')(b1)\n",
    "#     b1 = Conv2D(16, (3,3), strides=(1,1), padding='same', activation='relu')(b1)\n",
    "#     last = Reshape((48, 19))(last) # Input size of pix2code's first encoder\n",
    "    last = pix2code_lstm(x_in)\n",
    "    last = LSTM(512, return_sequences = True)(last)\n",
    "    last = Dropout(drop_rate)(last)\n",
    "    last = lstm_decoder.layers[-1](last)\n",
    "    reshape = Reshape((8,8,8))(last)\n",
    "    last = UpSampling2D((2,2), name='upsampler-trainable')(reshape)\n",
    "    last = Conv2D(16, kernel_size=(3,3), padding='same', activation='relu')(last)\n",
    "    last = Reshape((16,16,16))(last)\n",
    "\n",
    "    # Load in the v0 autoencoder\n",
    "#     last = keras.layers.Add()([b1, last])\n",
    "#     last = Conv2D(16, kernel_size=(2,2), padding='same',activation='relu')(last)\n",
    "    last = unroll_hydra(autoencoder, last)\n",
    "    \n",
    "    model = Model(x_in, last)\n",
    "    opt = RMSprop(lr=0.001)\n",
    "    model.compile(optimizer=opt, loss='binary_crossentropy')\n",
    "    return model\n",
    "\n",
    "clear_session()\n",
    "model = make_model('ios-p2c-encoder-LSTM', 'ios-p2c-decoder-LSTM', 'ios-hydra-model')\n",
    "# model.summary()\n",
    "callback = make_callback(model, hot)\n",
    "# shuffle_weights(model)\n",
    "model.fit(hot, GUIS, callbacks=[callback], epochs=200, batch_size=32, validation_split=0.2, shuffle=False)"
   ]
  }
 ],
 "metadata": {
  "kernelspec": {
   "display_name": "PyTorch Kernel",
   "language": "python",
   "name": "torchkern"
  },
  "language_info": {
   "codemirror_mode": {
    "name": "ipython",
    "version": 3
   },
   "file_extension": ".py",
   "mimetype": "text/x-python",
   "name": "python",
   "nbconvert_exporter": "python",
   "pygments_lexer": "ipython3",
   "version": "3.6.4"
  }
 },
 "nbformat": 4,
 "nbformat_minor": 2
}
